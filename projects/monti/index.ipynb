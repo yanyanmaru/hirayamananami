{
 "cells": [
  {
   "attachments": {},
   "cell_type": "markdown",
   "metadata": {},
   "source": [
    "---\n",
    "title: \"Pythonでモンティ・ホール問題を試行\"\n",
    "description: \"直感に反するモンティ・ホール問題をpythonでシミュレーションしてみます\"\n",
    "date: \"2024-06-30\"\n",
    "lang: ja\n",
    "format:\n",
    "  html:\n",
    "    code-fold: true\n",
    "    code-summary: \"コードを見る\"\n",
    "categories:\n",
    "  - python\n",
    "  - 統計\n",
    "---"
   ]
  },
  {
   "cell_type": "code",
   "execution_count": 4,
   "metadata": {},
   "outputs": [
    {
     "name": "stdout",
     "output_type": "stream",
     "text": [
      "Stay Wins: 3352 (33.52%)\n",
      "Switch Wins: 6648 (66.48%)\n"
     ]
    }
   ],
   "source": [
    "import random\n",
    "\n",
    "def simulate_monty_hall(trials):\n",
    "    stay_wins = 0\n",
    "    switch_wins = 0\n",
    "\n",
    "    for _ in range(trials):\n",
    "        # ランダムに車があるドアを選ぶ\n",
    "        car = random.randint(0, 2)\n",
    "        # プレイヤーが選ぶドア\n",
    "        player_choice = random.randint(0, 2)\n",
    "\n",
    "        # モンティが開けるドア\n",
    "        monty_choice = random.choice([door for door in range(3) if door != car and door != player_choice])\n",
    "\n",
    "        # プレイヤーがドアを変更する場合の勝敗\n",
    "        switch_choice = next(door for door in range(3) if door != player_choice and door != monty_choice)\n",
    "        if switch_choice == car:\n",
    "            switch_wins += 1\n",
    "        else:\n",
    "            stay_wins += 1\n",
    "\n",
    "    return stay_wins, switch_wins\n",
    "\n",
    "# シミュレーションを行う回数\n",
    "trials = 10000\n",
    "stay_wins, switch_wins = simulate_monty_hall(trials)\n",
    "\n",
    "print(f\"Stay Wins: {stay_wins} ({stay_wins/trials*100:.2f}%)\")\n",
    "print(f\"Switch Wins: {switch_wins} ({switch_wins/trials*100:.2f}%)\")\n"
   ]
  },
  {
   "cell_type": "code",
   "execution_count": null,
   "metadata": {},
   "outputs": [],
   "source": []
  }
 ],
 "metadata": {
  "kernelspec": {
   "display_name": "Python 3",
   "language": "python",
   "name": "python3"
  },
  "language_info": {
   "codemirror_mode": {
    "name": "ipython",
    "version": 3
   },
   "file_extension": ".py",
   "mimetype": "text/x-python",
   "name": "python",
   "nbconvert_exporter": "python",
   "pygments_lexer": "ipython3",
   "version": "3.9.6"
  },
  "orig_nbformat": 4
 },
 "nbformat": 4,
 "nbformat_minor": 2
}
